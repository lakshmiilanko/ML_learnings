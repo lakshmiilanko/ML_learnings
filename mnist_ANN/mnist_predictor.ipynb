{
 "cells": [
  {
   "cell_type": "code",
   "execution_count": null,
   "id": "4c215f45",
   "metadata": {},
   "outputs": [],
   "source": [
    "#MNIST Handwritten Digit Predictor\n",
    "#Modular implementation for predicting handwritten digits"
   ]
  },
  {
   "cell_type": "code",
   "execution_count": null,
   "id": "d9fb7069",
   "metadata": {},
   "outputs": [],
   "source": [
    "# Import necessary libraries\n",
    "import tensorflow as tf\n",
    "import numpy as np\n",
    "import matplotlib.pyplot as plt"
   ]
  },
  {
   "cell_type": "code",
   "execution_count": null,
   "id": "e70c5bee",
   "metadata": {},
   "outputs": [],
   "source": [
    "def load_and_preprocess_data():\n",
    "    \"\"\"Load and preprocess MNIST data.\"\"\"\n",
    "    print(\"Loading data...\")\n",
    "    (x_train, y_train), (x_test, y_test) = tf.keras.datasets.mnist.load_data()\n",
    "    \n",
    "    # Normalize pixel values to 0-1\n",
    "    x_train = x_train / 255.0\n",
    "    x_test = x_test / 255.0\n",
    "    \n",
    "    print(f\"Training samples: {len(x_train)}\")\n",
    "    print(f\"Test samples: {len(x_test)}\")\n",
    "    \n",
    "    return (x_train, y_train), (x_test, y_test)"
   ]
  },
  {
   "cell_type": "code",
   "execution_count": null,
   "id": "a0eab2b0",
   "metadata": {},
   "outputs": [],
   "source": [
    "def create_model():\n",
    "    \"\"\"Create and return the neural network model.\"\"\"\n",
    "    print(\"Creating model...\")\n",
    "    model = tf.keras.Sequential([\n",
    "        tf.keras.layers.Flatten(input_shape=(28, 28)),  # 28x28 -> 784\n",
    "        tf.keras.layers.Dense(128, activation='relu'),   # Hidden layer\n",
    "        tf.keras.layers.Dense(10, activation='softmax')  # Output (10 digits)\n",
    "    ])\n",
    "    return model\n"
   ]
  },
  {
   "cell_type": "code",
   "execution_count": null,
   "id": "2e33ba4a",
   "metadata": {},
   "outputs": [],
   "source": [
    "def compile_model(model):\n",
    "    \"\"\"Compile the model with optimizer, loss, and metrics.\"\"\"\n",
    "    model.compile(\n",
    "        optimizer='adam',\n",
    "        loss='sparse_categorical_crossentropy',\n",
    "        metrics=['accuracy']\n",
    "    )\n",
    "    return model\n"
   ]
  },
  {
   "cell_type": "code",
   "execution_count": null,
   "id": "9d26962d",
   "metadata": {},
   "outputs": [],
   "source": [
    "def train_model(model, x_train, y_train, epochs=3):\n",
    "    \"\"\"Train the model on training data.\"\"\"\n",
    "    print(\"Training model...\")\n",
    "    history = model.fit(x_train, y_train, epochs=epochs, verbose=1)\n",
    "    return history"
   ]
  },
  {
   "cell_type": "code",
   "execution_count": null,
   "id": "34197f2a",
   "metadata": {},
   "outputs": [],
   "source": [
    "def evaluate_model(model, x_test, y_test):\n",
    "    \"\"\"Evaluate model performance on test data.\"\"\"\n",
    "    print(\"Testing model...\")\n",
    "    test_loss, test_accuracy = model.evaluate(x_test, y_test, verbose=0)\n",
    "    print(f\"Test accuracy: {test_accuracy:.4f} ({test_accuracy*100:.1f}%)\")\n",
    "    return test_loss, test_accuracy"
   ]
  },
  {
   "cell_type": "code",
   "execution_count": null,
   "id": "8b70329b",
   "metadata": {},
   "outputs": [],
   "source": [
    "def make_prediction(model, image):\n",
    "    \"\"\"Make a prediction on a single image.\"\"\"\n",
    "    if len(image.shape) == 2:  \n",
    "        image = image.reshape(1, 28, 28)\n",
    "    \n",
    "    prediction = model.predict(image, verbose=0)[0]\n",
    "    predicted_label = np.argmax(prediction)\n",
    "    confidence = prediction[predicted_label]\n",
    "    \n",
    "    return predicted_label, confidence, prediction"
   ]
  },
  {
   "cell_type": "code",
   "execution_count": null,
   "id": "a9c8542e",
   "metadata": {},
   "outputs": [],
   "source": [
    "def select_random_samples(data_length, num_samples=5):\n",
    "    \"\"\"Select random indices for prediction testing.\"\"\"\n",
    "    return np.random.choice(data_length, min(num_samples, data_length), replace=False)\n",
    "\n"
   ]
  },
  {
   "cell_type": "code",
   "execution_count": null,
   "id": "7feaa47d",
   "metadata": {},
   "outputs": [],
   "source": [
    "def format_prediction_result(i, true_label, predicted_label, confidence):\n",
    "    \"\"\"Format prediction result for display.\"\"\"\n",
    "    status = '✓' if true_label == predicted_label else '✗'\n",
    "    return (f\"{i+1}. True: {true_label}, Predicted: {predicted_label}, \"\n",
    "           f\"Confidence: {confidence:.3f} {status}\")"
   ]
  },
  {
   "cell_type": "code",
   "execution_count": null,
   "id": "06d9ae98",
   "metadata": {},
   "outputs": [],
   "source": [
    "def test_random_predictions(model, x_test, y_test, num_samples=5):\n",
    "    \"\"\"Test model on random samples and display results.\"\"\"\n",
    "    print(f\"\\nMaking predictions on {num_samples} random samples:\")\n",
    "    indices = select_random_samples(len(x_test), num_samples)\n",
    "    \n",
    "    results = []\n",
    "    for i, idx in enumerate(indices):\n",
    "        # Get image and true label\n",
    "        image = x_test[idx]\n",
    "        true_label = y_test[idx]\n",
    "        \n",
    "        # Make prediction\n",
    "        predicted_label, confidence, _ = make_prediction(model, image)\n",
    "        \n",
    "        # Format and display result\n",
    "        result = format_prediction_result(i, true_label, predicted_label, confidence)\n",
    "        print(result)\n",
    "        results.append({\n",
    "            'index': idx,\n",
    "            'true_label': true_label,\n",
    "            'predicted_label': predicted_label,\n",
    "            'confidence': confidence,\n",
    "            'correct': true_label == predicted_label\n",
    "        })\n",
    "    \n",
    "    return results, indices"
   ]
  },
  {
   "cell_type": "code",
   "execution_count": null,
   "id": "10250406",
   "metadata": {},
   "outputs": [],
   "source": [
    "def visualize_prediction(model, x_test, y_test, sample_index):\n",
    "    \"\"\"Visualize a prediction with image and probability distribution.\"\"\"\n",
    "    print(f\"\\nShowing detailed prediction for sample {sample_index}:\")\n",
    "    \n",
    "    plt.figure(figsize=(8, 3))\n",
    "    \n",
    "    # Show image\n",
    "    plt.subplot(1, 2, 1)\n",
    "    plt.imshow(x_test[sample_index], cmap='gray')\n",
    "    \n",
    "    predicted_label, _, _ = make_prediction(model, x_test[sample_index])\n",
    "    plt.title(f'True: {y_test[sample_index]}, Pred: {predicted_label}')\n",
    "    plt.axis('off')\n",
    "    \n",
    "    # Show probabilities\n",
    "    plt.subplot(1, 2, 2)\n",
    "    _, _, probs = make_prediction(model, x_test[sample_index])\n",
    "    plt.bar(range(10), probs)\n",
    "    plt.xlabel('Digit')\n",
    "    plt.ylabel('Probability')\n",
    "    plt.title('Predictions')\n",
    "    \n",
    "    plt.tight_layout()\n",
    "    plt.show()\n"
   ]
  },
  {
   "cell_type": "code",
   "execution_count": null,
   "id": "f62d555c",
   "metadata": {},
   "outputs": [],
   "source": [
    "def normalize_data(x_data):\n",
    "    \"\"\"Normalize data to 0-1 range.\"\"\"\n",
    "    return x_data / 255.0\n"
   ]
  },
  {
   "cell_type": "code",
   "execution_count": null,
   "id": "ca0767a9",
   "metadata": {},
   "outputs": [],
   "source": [
    "def is_high_confidence(confidence, threshold=0.8):\n",
    "    \"\"\"Check if prediction confidence is above threshold.\"\"\"\n",
    "    return confidence >= threshold\n",
    "\n"
   ]
  },
  {
   "cell_type": "code",
   "execution_count": null,
   "id": "087f835b",
   "metadata": {},
   "outputs": [],
   "source": [
    "def main():\n",
    "    \"\"\"Main function - orchestrates the entire pipeline.\"\"\"\n",
    "    print(\"Basic MNIST Digit Predictor\")\n",
    "    print(\"=\" * 40)\n",
    "    \n",
    "    # Load and preprocess data\n",
    "    (x_train, y_train), (x_test, y_test) = load_and_preprocess_data()\n",
    "    \n",
    "    # Create and compile model\n",
    "    model = create_model()\n",
    "    model = compile_model(model)\n",
    "    \n",
    "    # Train model\n",
    "    train_model(model, x_train, y_train, epochs=3)\n",
    "    \n",
    "    # Evaluate model\n",
    "    evaluate_model(model, x_test, y_test)\n",
    "    \n",
    "    # Test on random samples\n",
    "    results, indices = test_random_predictions(model, x_test, y_test, num_samples=5)\n",
    "    \n",
    "    # Visualize one prediction\n",
    "    visualize_prediction(model, x_test, y_test, indices[0])\n",
    "    \n",
    "    print(\"\\nDone! Model can predict handwritten digits.\")\n",
    "    \n",
    "    return model, results"
   ]
  },
  {
   "cell_type": "code",
   "execution_count": null,
   "id": "ed247904",
   "metadata": {},
   "outputs": [],
   "source": [
    "# Function call\n",
    "main()"
   ]
  },
  {
   "cell_type": "markdown",
   "id": "c77ee450",
   "metadata": {},
   "source": []
  }
 ],
 "metadata": {
  "kernelspec": {
   "display_name": "my-tf-env",
   "language": "python",
   "name": "python3"
  },
  "language_info": {
   "codemirror_mode": {
    "name": "ipython",
    "version": 3
   },
   "file_extension": ".py",
   "mimetype": "text/x-python",
   "name": "python",
   "nbconvert_exporter": "python",
   "pygments_lexer": "ipython3",
   "version": "3.11.5"
  }
 },
 "nbformat": 4,
 "nbformat_minor": 5
}
